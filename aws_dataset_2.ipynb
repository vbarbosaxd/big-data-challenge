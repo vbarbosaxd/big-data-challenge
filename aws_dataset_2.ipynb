{
  "nbformat": 4,
  "nbformat_minor": 0,
  "metadata": {
    "colab": {
      "name": "aws_dataset_2.ipynb",
      "provenance": []
    },
    "kernelspec": {
      "name": "python3",
      "display_name": "Python 3"
    },
    "language_info": {
      "name": "python"
    }
  },
  "cells": [
    {
      "cell_type": "code",
      "execution_count": null,
      "metadata": {
        "id": "fOpLYru4GRdM"
      },
      "outputs": [],
      "source": [
        ""
      ]
    }
  ]
}